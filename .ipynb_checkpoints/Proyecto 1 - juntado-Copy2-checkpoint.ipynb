{
 "cells": [
  {
   "cell_type": "code",
   "execution_count": 1,
   "id": "coordinate-agenda",
   "metadata": {},
   "outputs": [],
   "source": [
    "import random"
   ]
  },
  {
   "cell_type": "code",
   "execution_count": 2,
   "id": "decimal-hours",
   "metadata": {},
   "outputs": [],
   "source": [
    "class Mastermind():\n",
    "    def __init__(self):\n",
    "        print(\"Welcome to mastermind!\")\n",
    "    \n",
    "    def computer_choice(self):\n",
    "        return random.choices(range(0,6), k=4)\n",
    "\n",
    "    def player_choice(self):\n",
    "        self.choice = [input(\"Insert 4 numbers between 0 and 5 (you can repeat numbers): \")]\n",
    "        while True:\n",
    "            for x in self.choice:\n",
    "                if x.isnumeric() == False:\n",
    "                    self.choice = [input(\"You must insert numbers, not letters. try again: \")]\n",
    "                elif x.isnumeric() == True:\n",
    "                    self.choice = [int(i) for i in list(input(\"You must insert numbers, not letters. try again: \"))]\n",
    "\n",
    "            while (x > 5):\n",
    "                    self.choice = [int(i) for i in list(input(\"Insert 4 numbers between 0 and 5 (you can repeat numbers): \"))]\n",
    "                    #cuando sale esta opción entra en bucle y no sale de ahí\n",
    "            if len(self.choice) != 4:\n",
    "                    self.choice = [int(i) for i in list(input(\"Insert 4 numbers between 0 and 5 (you can repeat numbers): \"))]\n",
    "            else: \n",
    "                self.choice = [int(i) for i in self.choice]\n",
    "                break\n",
    "        return self.choice\n",
    "                \n",
    "    def player_choice5(self):\n",
    "        self.choice = [int(i) for i in list(input(\"Insert 4 numbers between 0 and 5 (you can repeat numbers): \"))]\n",
    "        while True:\n",
    "            for x in self.choice:\n",
    "                while True:\n",
    "                    if (x > 5):\n",
    "                        self.choice = [int(i) for i in list(input(\"All numbers must be between 0 and 5. Try again: \"))]\n",
    "                    #cuando sale esta opción entra en bucle y no sale de ahí\n",
    "                    elif (x <= 5):\n",
    "                        break\n",
    "            if len(self.choice) != 4:\n",
    "                    self.choice = [int(i) for i in list(input(\"You must insert 4 numbers. Try again: \"))]\n",
    "            else: \n",
    "                break\n",
    "        return self.choice\n",
    "        \n",
    "        \n",
    "    def player_choice4(self):\n",
    "        choice = [int(i) for i in list(input(\"Insert 4 numbers between 0 and 5 (you can repeat numbers): \"))]\n",
    "        for x in choice:\n",
    "            while True:\n",
    "                if x > 5:\n",
    "                    choice = [int(i) for i in list(input(\"All numbers must be between 0 and 5. Try again: \"))]\n",
    "                    #cuando sale esta opción entra en bucle y no sale de ahí\n",
    "                elif len(choice) != 4:\n",
    "                    choice = [int(i) for i in list(input(\"You must insert 4 numbers. Try again: \"))]\n",
    "                else: \n",
    "                    break\n",
    "        return choice\n",
    "\n",
    "    def player_choice3(self):\n",
    "        choice = [int(i) for i in list(input(\"Insert 4 numbers between 0 and 5 (you can repeat numbers): \"))]\n",
    "        while True:\n",
    "            if len(choice) != 4:\n",
    "                choice = [int(i) for i in list(input(\"You must insert 4 numbers. Try again: \"))]\n",
    "            #elif: \n",
    "            #    for x in choice:\n",
    "            #        if x > 5:\n",
    "            #            choice = [int(i) for i in list(input(\"All numbers must be between 0 and 5. Try again: \"))]\n",
    "            else: \n",
    "                break\n",
    "        return choice\n",
    "\n",
    "    def player_choice2(self):\n",
    "        choice = [int(i) for i in list(input(\"Insert 4 numbers between 0 and 5 (you can repeat numbers): \"))]\n",
    "        while True:\n",
    "            if len(choice) != 4:\n",
    "                choice = [int(i) for i in list(input(\"You must insert 4 numbers. Try again: \"))]\n",
    "            else: \n",
    "                break\n",
    "        return choice\n",
    "\n",
    "    \n",
    "    def player_choice1(self):\n",
    "        return [int(i) for i in list(input(\"Insert 4 numbers between 0 and 5 (you can repeat numbers): \"))]\n",
    "\n",
    "    \n",
    "    def comparing(self, a, b):\n",
    "        for i, j in zip(a, b):\n",
    "            if i == j:\n",
    "                self.cpu_response.append(\"B\")\n",
    "            elif i != j:\n",
    "                if i in b: \n",
    "                    self.cpu_response.append(\"W\")\n",
    "        return self.cpu_response\n",
    "\n",
    "    def run(self):\n",
    "        self.rondas = 0\n",
    "        self.your_choice = [] \n",
    "        self.code = self.computer_choice()\n",
    "        while True:\n",
    "            self.cpu_response = []\n",
    "            self.rondas += 1\n",
    "            self.your_choice = self.player_choice()\n",
    "            self.cpu_response = self.comparing(self.your_choice, self.code)\n",
    "            print(self.your_choice)\n",
    "            print(random.sample(self.cpu_response, len(self.cpu_response))) #no he podido usar random.shuffle porque me devuelve None\n",
    "            print(self.code)\n",
    "            if self.cpu_response == ['B', 'B', 'B', 'B']:\n",
    "                print(\"You broke the code, yay!\")\n",
    "                break\n",
    "            elif self.rondas > 11:\n",
    "                print(\"Game over :(\")\n",
    "                break\n",
    "    \n",
    "    def main(self):\n",
    "        Mastermind().run()"
   ]
  },
  {
   "cell_type": "code",
   "execution_count": 3,
   "id": "considerable-house",
   "metadata": {},
   "outputs": [
    {
     "name": "stdout",
     "output_type": "stream",
     "text": [
      "Welcome to mastermind!\n",
      "Insert 4 numbers between 0 and 5 (you can repeat numbers): 1234\n",
      "You must insert numbers, not letters. try again: 1 2 3 4\n"
     ]
    },
    {
     "ename": "ValueError",
     "evalue": "invalid literal for int() with base 10: ' '",
     "output_type": "error",
     "traceback": [
      "\u001b[1;31m---------------------------------------------------------------------------\u001b[0m",
      "\u001b[1;31mValueError\u001b[0m                                Traceback (most recent call last)",
      "\u001b[1;32m<ipython-input-3-83bc96510bc7>\u001b[0m in \u001b[0;36m<module>\u001b[1;34m\u001b[0m\n\u001b[1;32m----> 1\u001b[1;33m \u001b[0mMastermind\u001b[0m\u001b[1;33m(\u001b[0m\u001b[1;33m)\u001b[0m\u001b[1;33m.\u001b[0m\u001b[0mrun\u001b[0m\u001b[1;33m(\u001b[0m\u001b[1;33m)\u001b[0m\u001b[1;33m\u001b[0m\u001b[1;33m\u001b[0m\u001b[0m\n\u001b[0m",
      "\u001b[1;32m<ipython-input-2-8ac60ce1367a>\u001b[0m in \u001b[0;36mrun\u001b[1;34m(self)\u001b[0m\n\u001b[0;32m     98\u001b[0m             \u001b[0mself\u001b[0m\u001b[1;33m.\u001b[0m\u001b[0mcpu_response\u001b[0m \u001b[1;33m=\u001b[0m \u001b[1;33m[\u001b[0m\u001b[1;33m]\u001b[0m\u001b[1;33m\u001b[0m\u001b[1;33m\u001b[0m\u001b[0m\n\u001b[0;32m     99\u001b[0m             \u001b[0mself\u001b[0m\u001b[1;33m.\u001b[0m\u001b[0mrondas\u001b[0m \u001b[1;33m+=\u001b[0m \u001b[1;36m1\u001b[0m\u001b[1;33m\u001b[0m\u001b[1;33m\u001b[0m\u001b[0m\n\u001b[1;32m--> 100\u001b[1;33m             \u001b[0mself\u001b[0m\u001b[1;33m.\u001b[0m\u001b[0myour_choice\u001b[0m \u001b[1;33m=\u001b[0m \u001b[0mself\u001b[0m\u001b[1;33m.\u001b[0m\u001b[0mplayer_choice\u001b[0m\u001b[1;33m(\u001b[0m\u001b[1;33m)\u001b[0m\u001b[1;33m\u001b[0m\u001b[1;33m\u001b[0m\u001b[0m\n\u001b[0m\u001b[0;32m    101\u001b[0m             \u001b[0mself\u001b[0m\u001b[1;33m.\u001b[0m\u001b[0mcpu_response\u001b[0m \u001b[1;33m=\u001b[0m \u001b[0mself\u001b[0m\u001b[1;33m.\u001b[0m\u001b[0mcomparing\u001b[0m\u001b[1;33m(\u001b[0m\u001b[0mself\u001b[0m\u001b[1;33m.\u001b[0m\u001b[0myour_choice\u001b[0m\u001b[1;33m,\u001b[0m \u001b[0mself\u001b[0m\u001b[1;33m.\u001b[0m\u001b[0mcode\u001b[0m\u001b[1;33m)\u001b[0m\u001b[1;33m\u001b[0m\u001b[1;33m\u001b[0m\u001b[0m\n\u001b[0;32m    102\u001b[0m             \u001b[0mprint\u001b[0m\u001b[1;33m(\u001b[0m\u001b[0mself\u001b[0m\u001b[1;33m.\u001b[0m\u001b[0myour_choice\u001b[0m\u001b[1;33m)\u001b[0m\u001b[1;33m\u001b[0m\u001b[1;33m\u001b[0m\u001b[0m\n",
      "\u001b[1;32m<ipython-input-2-8ac60ce1367a>\u001b[0m in \u001b[0;36mplayer_choice\u001b[1;34m(self)\u001b[0m\n\u001b[0;32m     13\u001b[0m                     \u001b[0mself\u001b[0m\u001b[1;33m.\u001b[0m\u001b[0mchoice\u001b[0m \u001b[1;33m=\u001b[0m \u001b[1;33m[\u001b[0m\u001b[0minput\u001b[0m\u001b[1;33m(\u001b[0m\u001b[1;34m\"You must insert numbers, not letters. try again: \"\u001b[0m\u001b[1;33m)\u001b[0m\u001b[1;33m]\u001b[0m\u001b[1;33m\u001b[0m\u001b[1;33m\u001b[0m\u001b[0m\n\u001b[0;32m     14\u001b[0m                 \u001b[1;32melif\u001b[0m \u001b[0mx\u001b[0m\u001b[1;33m.\u001b[0m\u001b[0misnumeric\u001b[0m\u001b[1;33m(\u001b[0m\u001b[1;33m)\u001b[0m \u001b[1;33m==\u001b[0m \u001b[1;32mTrue\u001b[0m\u001b[1;33m:\u001b[0m\u001b[1;33m\u001b[0m\u001b[1;33m\u001b[0m\u001b[0m\n\u001b[1;32m---> 15\u001b[1;33m                     \u001b[0mself\u001b[0m\u001b[1;33m.\u001b[0m\u001b[0mchoice\u001b[0m \u001b[1;33m=\u001b[0m \u001b[1;33m[\u001b[0m\u001b[0mint\u001b[0m\u001b[1;33m(\u001b[0m\u001b[0mi\u001b[0m\u001b[1;33m)\u001b[0m \u001b[1;32mfor\u001b[0m \u001b[0mi\u001b[0m \u001b[1;32min\u001b[0m \u001b[0mlist\u001b[0m\u001b[1;33m(\u001b[0m\u001b[0minput\u001b[0m\u001b[1;33m(\u001b[0m\u001b[1;34m\"You must insert numbers, not letters. try again: \"\u001b[0m\u001b[1;33m)\u001b[0m\u001b[1;33m)\u001b[0m\u001b[1;33m]\u001b[0m\u001b[1;33m\u001b[0m\u001b[1;33m\u001b[0m\u001b[0m\n\u001b[0m\u001b[0;32m     16\u001b[0m \u001b[1;33m\u001b[0m\u001b[0m\n\u001b[0;32m     17\u001b[0m             \u001b[1;32mwhile\u001b[0m \u001b[1;33m(\u001b[0m\u001b[0mx\u001b[0m \u001b[1;33m>\u001b[0m \u001b[1;36m5\u001b[0m\u001b[1;33m)\u001b[0m\u001b[1;33m:\u001b[0m\u001b[1;33m\u001b[0m\u001b[1;33m\u001b[0m\u001b[0m\n",
      "\u001b[1;32m<ipython-input-2-8ac60ce1367a>\u001b[0m in \u001b[0;36m<listcomp>\u001b[1;34m(.0)\u001b[0m\n\u001b[0;32m     13\u001b[0m                     \u001b[0mself\u001b[0m\u001b[1;33m.\u001b[0m\u001b[0mchoice\u001b[0m \u001b[1;33m=\u001b[0m \u001b[1;33m[\u001b[0m\u001b[0minput\u001b[0m\u001b[1;33m(\u001b[0m\u001b[1;34m\"You must insert numbers, not letters. try again: \"\u001b[0m\u001b[1;33m)\u001b[0m\u001b[1;33m]\u001b[0m\u001b[1;33m\u001b[0m\u001b[1;33m\u001b[0m\u001b[0m\n\u001b[0;32m     14\u001b[0m                 \u001b[1;32melif\u001b[0m \u001b[0mx\u001b[0m\u001b[1;33m.\u001b[0m\u001b[0misnumeric\u001b[0m\u001b[1;33m(\u001b[0m\u001b[1;33m)\u001b[0m \u001b[1;33m==\u001b[0m \u001b[1;32mTrue\u001b[0m\u001b[1;33m:\u001b[0m\u001b[1;33m\u001b[0m\u001b[1;33m\u001b[0m\u001b[0m\n\u001b[1;32m---> 15\u001b[1;33m                     \u001b[0mself\u001b[0m\u001b[1;33m.\u001b[0m\u001b[0mchoice\u001b[0m \u001b[1;33m=\u001b[0m \u001b[1;33m[\u001b[0m\u001b[0mint\u001b[0m\u001b[1;33m(\u001b[0m\u001b[0mi\u001b[0m\u001b[1;33m)\u001b[0m \u001b[1;32mfor\u001b[0m \u001b[0mi\u001b[0m \u001b[1;32min\u001b[0m \u001b[0mlist\u001b[0m\u001b[1;33m(\u001b[0m\u001b[0minput\u001b[0m\u001b[1;33m(\u001b[0m\u001b[1;34m\"You must insert numbers, not letters. try again: \"\u001b[0m\u001b[1;33m)\u001b[0m\u001b[1;33m)\u001b[0m\u001b[1;33m]\u001b[0m\u001b[1;33m\u001b[0m\u001b[1;33m\u001b[0m\u001b[0m\n\u001b[0m\u001b[0;32m     16\u001b[0m \u001b[1;33m\u001b[0m\u001b[0m\n\u001b[0;32m     17\u001b[0m             \u001b[1;32mwhile\u001b[0m \u001b[1;33m(\u001b[0m\u001b[0mx\u001b[0m \u001b[1;33m>\u001b[0m \u001b[1;36m5\u001b[0m\u001b[1;33m)\u001b[0m\u001b[1;33m:\u001b[0m\u001b[1;33m\u001b[0m\u001b[1;33m\u001b[0m\u001b[0m\n",
      "\u001b[1;31mValueError\u001b[0m: invalid literal for int() with base 10: ' '"
     ]
    }
   ],
   "source": [
    "Mastermind().run()"
   ]
  },
  {
   "cell_type": "markdown",
   "id": "impaired-result",
   "metadata": {},
   "source": [
    "###### Dudas: \n",
    "- mensaje error\n"
   ]
  },
  {
   "cell_type": "code",
   "execution_count": null,
   "id": "primary-elimination",
   "metadata": {},
   "outputs": [],
   "source": []
  }
 ],
 "metadata": {
  "kernelspec": {
   "display_name": "Python 3",
   "language": "python",
   "name": "python3"
  },
  "language_info": {
   "codemirror_mode": {
    "name": "ipython",
    "version": 3
   },
   "file_extension": ".py",
   "mimetype": "text/x-python",
   "name": "python",
   "nbconvert_exporter": "python",
   "pygments_lexer": "ipython3",
   "version": "3.9.1"
  },
  "toc": {
   "base_numbering": 1,
   "nav_menu": {},
   "number_sections": true,
   "sideBar": true,
   "skip_h1_title": false,
   "title_cell": "Table of Contents",
   "title_sidebar": "Contents",
   "toc_cell": false,
   "toc_position": {},
   "toc_section_display": true,
   "toc_window_display": false
  },
  "varInspector": {
   "cols": {
    "lenName": 16,
    "lenType": 16,
    "lenVar": 40
   },
   "kernels_config": {
    "python": {
     "delete_cmd_postfix": "",
     "delete_cmd_prefix": "del ",
     "library": "var_list.py",
     "varRefreshCmd": "print(var_dic_list())"
    },
    "r": {
     "delete_cmd_postfix": ") ",
     "delete_cmd_prefix": "rm(",
     "library": "var_list.r",
     "varRefreshCmd": "cat(var_dic_list()) "
    }
   },
   "types_to_exclude": [
    "module",
    "function",
    "builtin_function_or_method",
    "instance",
    "_Feature"
   ],
   "window_display": false
  }
 },
 "nbformat": 4,
 "nbformat_minor": 5
}
