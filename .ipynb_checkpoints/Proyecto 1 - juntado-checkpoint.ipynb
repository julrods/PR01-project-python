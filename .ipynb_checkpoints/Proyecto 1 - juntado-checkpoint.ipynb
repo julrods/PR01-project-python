{
 "cells": [
  {
   "cell_type": "code",
   "execution_count": null,
   "id": "coordinate-agenda",
   "metadata": {},
   "outputs": [],
   "source": [
    "import random"
   ]
  },
  {
   "cell_type": "code",
   "execution_count": null,
   "id": "decimal-hours",
   "metadata": {},
   "outputs": [],
   "source": [
    "class Mastermind():\n",
    "    def __init__(self):\n",
    "        print(\"Welcome to mastermind!\")\n",
    "    \n",
    "    def computer_choice(self):\n",
    "        return random.choices(range(0,6), k=4)\n",
    "                    \n",
    "    def player_choice(self):\n",
    "        return [int(i) for i in list(input(\"Insert 4 numbers between 0 and 5 (you can repeat numbers): \"))]\n",
    "\n",
    "    def comparing(self, a, b):\n",
    "        for i, j in zip(a, b):\n",
    "            if i == j:\n",
    "                self.cpu_response.append(\"◯\")\n",
    "            elif i != j:\n",
    "                if i in b: \n",
    "                    self.cpu_response.append(\"⬤\")\n",
    "                else:\n",
    "                    self.cpu_response.append(\"⊗\")\n",
    "        return self.cpu_response\n",
    "\n",
    "    def run(self):\n",
    "        self.rondas = 0\n",
    "        self.cpu_response = []\n",
    "        self.your_choice = [] \n",
    "        self.code = self.computer_choice()\n",
    "        while True:\n",
    "            self.rondas += 1\n",
    "            self.your_choice = self.player_choice()\n",
    "            self.cpu_response = self.comparing(self.your_choice, self.code)\n",
    "            print(self.your_choice)\n",
    "            print(self.cpu_response[-4:]) #aquí falta que los pegs salgan en orden random (random.shuffle?)\n",
    "            print(self.code)\n",
    "            if self.cpu_response[-4:] == ['◯', '◯', '◯', '◯']:\n",
    "                print(\"You broke the code, yay!\")\n",
    "                break\n",
    "            elif self.rondas > 11:\n",
    "                print(\"Game over :(\")\n",
    "                break\n",
    "    \n",
    "    def main(self):\n",
    "        Mastermind().run()"
   ]
  },
  {
   "cell_type": "code",
   "execution_count": null,
   "id": "considerable-house",
   "metadata": {},
   "outputs": [],
   "source": [
    "Mastermind().run()"
   ]
  },
  {
   "cell_type": "markdown",
   "id": "impaired-result",
   "metadata": {},
   "source": [
    "Dudas: \n",
    "- poner los pegs aleatoriamente"
   ]
  }
 ],
 "metadata": {
  "kernelspec": {
   "display_name": "Python 3",
   "language": "python",
   "name": "python3"
  },
  "language_info": {
   "codemirror_mode": {
    "name": "ipython",
    "version": 3
   },
   "file_extension": ".py",
   "mimetype": "text/x-python",
   "name": "python",
   "nbconvert_exporter": "python",
   "pygments_lexer": "ipython3",
   "version": "3.9.1"
  },
  "toc": {
   "base_numbering": 1,
   "nav_menu": {},
   "number_sections": true,
   "sideBar": true,
   "skip_h1_title": false,
   "title_cell": "Table of Contents",
   "title_sidebar": "Contents",
   "toc_cell": false,
   "toc_position": {},
   "toc_section_display": true,
   "toc_window_display": false
  },
  "varInspector": {
   "cols": {
    "lenName": 16,
    "lenType": 16,
    "lenVar": 40
   },
   "kernels_config": {
    "python": {
     "delete_cmd_postfix": "",
     "delete_cmd_prefix": "del ",
     "library": "var_list.py",
     "varRefreshCmd": "print(var_dic_list())"
    },
    "r": {
     "delete_cmd_postfix": ") ",
     "delete_cmd_prefix": "rm(",
     "library": "var_list.r",
     "varRefreshCmd": "cat(var_dic_list()) "
    }
   },
   "types_to_exclude": [
    "module",
    "function",
    "builtin_function_or_method",
    "instance",
    "_Feature"
   ],
   "window_display": false
  }
 },
 "nbformat": 4,
 "nbformat_minor": 5
}
