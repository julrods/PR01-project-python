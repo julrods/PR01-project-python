{
 "cells": [
  {
   "cell_type": "code",
   "execution_count": 1,
   "id": "regional-blast",
   "metadata": {},
   "outputs": [],
   "source": [
    "import random"
   ]
  },
  {
   "cell_type": "code",
   "execution_count": 2,
   "id": "played-eleven",
   "metadata": {},
   "outputs": [],
   "source": [
    "def computer_choice():\n",
    "    return random.choices(range(0,6), k=4)"
   ]
  },
  {
   "cell_type": "code",
   "execution_count": 3,
   "id": "pretty-marine",
   "metadata": {},
   "outputs": [],
   "source": [
    "def player_choice():\n",
    "    return [int(i) for i in list(input(\"Insert 4 numbers between 0 and 5 (you can repeat numbers): \"))]"
   ]
  },
  {
   "cell_type": "code",
   "execution_count": 4,
   "id": "fresh-grave",
   "metadata": {},
   "outputs": [],
   "source": [
    "def comparing(a, b):\n",
    "    for i, j in zip(a, b):\n",
    "        if i == j:\n",
    "            cpu_response.append(\"◯\")\n",
    "        elif i != j:\n",
    "            if i in b: \n",
    "                cpu_response.append(\"⬤\")\n",
    "            else:\n",
    "                cpu_response.append(\"⊗\")\n",
    "    return cpu_response\n"
   ]
  },
  {
   "cell_type": "code",
   "execution_count": 5,
   "id": "pretty-copyright",
   "metadata": {},
   "outputs": [],
   "source": [
    "cpu_response = []\n",
    "your_choice = [] \n",
    "code = computer_choice()\n",
    "def main():\n",
    "    rondas = 0\n",
    "    cpu_response = []\n",
    "    while True:\n",
    "        rondas += 1\n",
    "        your_choice = player_choice()\n",
    "        cpu_response = comparing(your_choice, code)\n",
    "        print(your_choice)\n",
    "        print(cpu_response[-4:])\n",
    "        #print(code)\n",
    "        if cpu_response[-4:] == ['◯', '◯', '◯', '◯']:\n",
    "            print(\"You broke the code, yay!\")\n",
    "            break\n",
    "        elif rondas > 11:\n",
    "            print(\"Game over :(\")\n",
    "            break"
   ]
  },
  {
   "cell_type": "code",
   "execution_count": 6,
   "id": "catholic-indication",
   "metadata": {},
   "outputs": [
    {
     "name": "stdout",
     "output_type": "stream",
     "text": [
      "Insert 4 numbers between 0 and 5 (you can repeat numbers): 1234\n",
      "[1, 2, 3, 4]\n",
      "['⬤', '⊗', '⬤', '⊗']\n",
      "Insert 4 numbers between 0 and 5 (you can repeat numbers): 0153\n",
      "[0, 1, 5, 3]\n",
      "['⬤', '⬤', '⬤', '⬤']\n",
      "Insert 4 numbers between 0 and 5 (you can repeat numbers): 3015\n",
      "[3, 0, 1, 5]\n",
      "['◯', '◯', '◯', '◯']\n",
      "You broke the code, yay!\n"
     ]
    }
   ],
   "source": [
    "main()"
   ]
  },
  {
   "cell_type": "code",
   "execution_count": null,
   "id": "secure-large",
   "metadata": {},
   "outputs": [],
   "source": []
  }
 ],
 "metadata": {
  "kernelspec": {
   "display_name": "Python 3",
   "language": "python",
   "name": "python3"
  },
  "language_info": {
   "codemirror_mode": {
    "name": "ipython",
    "version": 3
   },
   "file_extension": ".py",
   "mimetype": "text/x-python",
   "name": "python",
   "nbconvert_exporter": "python",
   "pygments_lexer": "ipython3",
   "version": "3.9.1"
  },
  "toc": {
   "base_numbering": 1,
   "nav_menu": {},
   "number_sections": true,
   "sideBar": true,
   "skip_h1_title": false,
   "title_cell": "Table of Contents",
   "title_sidebar": "Contents",
   "toc_cell": false,
   "toc_position": {},
   "toc_section_display": true,
   "toc_window_display": false
  },
  "varInspector": {
   "cols": {
    "lenName": 16,
    "lenType": 16,
    "lenVar": 40
   },
   "kernels_config": {
    "python": {
     "delete_cmd_postfix": "",
     "delete_cmd_prefix": "del ",
     "library": "var_list.py",
     "varRefreshCmd": "print(var_dic_list())"
    },
    "r": {
     "delete_cmd_postfix": ") ",
     "delete_cmd_prefix": "rm(",
     "library": "var_list.r",
     "varRefreshCmd": "cat(var_dic_list()) "
    }
   },
   "types_to_exclude": [
    "module",
    "function",
    "builtin_function_or_method",
    "instance",
    "_Feature"
   ],
   "window_display": false
  }
 },
 "nbformat": 4,
 "nbformat_minor": 5
}
