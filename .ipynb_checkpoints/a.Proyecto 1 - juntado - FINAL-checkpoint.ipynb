{
 "cells": [
  {
   "cell_type": "code",
   "execution_count": 1,
   "id": "dependent-shock",
   "metadata": {},
   "outputs": [],
   "source": [
    "import random"
   ]
  },
  {
   "cell_type": "code",
   "execution_count": 2,
   "id": "decimal-hours",
   "metadata": {},
   "outputs": [],
   "source": [
    "class Mastermind():\n",
    "    \n",
    "    def __init__(self):\n",
    "    \n",
    "        \"\"\"\n",
    "        Starts the game and provides instructions\n",
    "        \n",
    "        \"\"\"\n",
    "\n",
    "        print(\"Welcome to Mastermind! There's a secret code composed of 4 digits between 0 and 5, \\nand your goal is to guess the code. To begin, insert 4 digits and the machine will tell you \\nhow many of the numbers you inserted are in the code and in the right position with a black peg ('B'). \\nYou will get a white peg ('W') for each number that is in the code, but in the wrong position. \\nRemember you can repeat numbers (the code may be 0000 or 1122). \\nLet's begin! \\n\\n\")\n",
    "    \n",
    "    def computer_choice(self):\n",
    "\n",
    "        \"\"\"\n",
    "        Returns the random code that the player will need to break.\n",
    "        Numbers can be between 0 and 5 and can be repeated.\n",
    "        \n",
    "        \"\"\"      \n",
    "        \n",
    "        return random.choices(range(0,6), k=4)\n",
    "                    \n",
    "    def player_choice(self):\n",
    "\n",
    "        \"\"\"\n",
    "        Asks the player for input (guessing the code). Returns the code.\n",
    "        Displays different error messages for the following cases: \n",
    "        The user inserts more or less than 4 digits\n",
    "        Some of the numbers are not between 0 and 5\n",
    "        The characters inserted were not numbers\n",
    "        \n",
    "        \"\"\"      \n",
    "        \n",
    "        while True:\n",
    "            try:\n",
    "                self.choice = [int(i) for i in list(input(\"Insert 4 numbers between 0 and 5 (you can repeat numbers): \"))]\n",
    "                if len(self.choice) != 4:\n",
    "                    self.choice = [int(i) for i in list(input(\"You must insert 4 numbers. Try again: \"))]\n",
    "\n",
    "                elif any([x > 5 for x in self.choice]):\n",
    "                    self.choice = [int(i) for i in list(input(\"All numbers must be between 0 and 5. Try again: \"))]\n",
    "                else: \n",
    "                    break\n",
    "            except: \n",
    "                print(\"You didn't insert a number.\")\n",
    "                \n",
    "        return self.choice\n",
    "    \n",
    "    def comparing(self, player_input, real_code):\n",
    "        \n",
    "        \"\"\"\n",
    "        Compares the code vs. the player input\n",
    "        Returns a list with:\n",
    "        A white peg 'W' for each number that's in the code and in the right place\n",
    "        A black peg 'B' for each number that's in the code but in the wrong place\n",
    "        \n",
    "        \"\"\"\n",
    "        \n",
    "        for p_input, r_code in zip(player_input, real_code):\n",
    "            if p_input == r_code:\n",
    "                self.cpu_response.append(\"B\")\n",
    "            elif p_input != r_code:\n",
    "                if p_input in real_code: \n",
    "                    self.cpu_response.append(\"W\")\n",
    "        return self.cpu_response\n",
    "\n",
    "    def run(self):\n",
    "        \n",
    "        \"\"\"\n",
    "        We set the variables: \n",
    "        round counter at 0\n",
    "        an empty list to be filled with the player choice\n",
    "        the code of the computer\n",
    "        \n",
    "        \"\"\"\n",
    "        \n",
    "        self.rounds = 0\n",
    "        self.your_choice = [] \n",
    "        self.code = self.computer_choice()\n",
    "\n",
    "        \"\"\"\n",
    "        Main loop:\n",
    "        \n",
    "        \"\"\"\n",
    "\n",
    "        \n",
    "        while True:\n",
    "            self.cpu_response = []\n",
    "            self.rounds += 1\n",
    "            self.your_choice = self.player_choice()\n",
    "            self.cpu_response = self.comparing(self.your_choice, self.code)\n",
    "            \n",
    "            print(\"Your guess: \", ''.join([str(digit) for digit in self.your_choice],))\n",
    "            print(\"The computer says:\", ' '.join([str(digit) for digit in random.sample(self.cpu_response, len(self.cpu_response))]), \"\\n\") \n",
    "            print(self.code)\n",
    "            \n",
    "            \"\"\"\n",
    "            We define the winning combination and the end of the game:\n",
    "\n",
    "            \"\"\"\n",
    "\n",
    "            if self.cpu_response == ['B', 'B', 'B', 'B']:\n",
    "                print(\"You broke the code, yay!\")\n",
    "                break\n",
    "            elif self.rounds > 11:\n",
    "                print(\"Game over :( The code was\", ''.join([str(digit) for digit in self.code]))\n",
    "                break\n",
    "    \n",
    "    def main(self):\n",
    "        Mastermind().run()"
   ]
  },
  {
   "cell_type": "code",
   "execution_count": null,
   "id": "considerable-house",
   "metadata": {
    "scrolled": true
   },
   "outputs": [
    {
     "name": "stdout",
     "output_type": "stream",
     "text": [
      "Welcome to Mastermind! There's a secret code composed of 4 digits between 0 and 5, \n",
      "and your goal is to guess the code. To begin, insert 4 digits and the machine will tell you \n",
      "how many of the numbers you inserted are in the code and in the right position with a black peg ('B'). \n",
      "You will get a white peg ('W') for each number that is in the code, but in the wrong position. \n",
      "Remember you can repeat numbers (the code may be 0000 or 1122). \n",
      "Let's begin! \n",
      "\n",
      "\n",
      "Insert 4 numbers between 0 and 5 (you can repeat numbers): 1223\n",
      "Your guess:  1223\n",
      "The computer says: W W W \n",
      "\n",
      "[4, 3, 0, 2]\n",
      "Insert 4 numbers between 0 and 5 (you can repeat numbers): 1234\n",
      "Your guess:  1234\n",
      "The computer says: W W W \n",
      "\n",
      "[4, 3, 0, 2]\n",
      "Insert 4 numbers between 0 and 5 (you can repeat numbers): 1230ç\n",
      "You didn't insert a number.\n",
      "Insert 4 numbers between 0 and 5 (you can repeat numbers): 4230\n",
      "Your guess:  4230\n",
      "The computer says: W W W B \n",
      "\n",
      "[4, 3, 0, 2]\n"
     ]
    }
   ],
   "source": [
    "Mastermind().run()"
   ]
  },
  {
   "cell_type": "markdown",
   "id": "impaired-result",
   "metadata": {},
   "source": [
    "###### Dudas: \n",
    "- mensaje error\n"
   ]
  },
  {
   "cell_type": "code",
   "execution_count": null,
   "id": "vital-scientist",
   "metadata": {},
   "outputs": [],
   "source": [
    "code = [1,2,3,4]\n",
    "''.join([str(digit) for n in code])"
   ]
  },
  {
   "cell_type": "code",
   "execution_count": null,
   "id": "employed-civilization",
   "metadata": {},
   "outputs": [],
   "source": []
  }
 ],
 "metadata": {
  "kernelspec": {
   "display_name": "Python 3",
   "language": "python",
   "name": "python3"
  },
  "language_info": {
   "codemirror_mode": {
    "name": "ipython",
    "version": 3
   },
   "file_extension": ".py",
   "mimetype": "text/x-python",
   "name": "python",
   "nbconvert_exporter": "python",
   "pygments_lexer": "ipython3",
   "version": "3.9.1"
  },
  "toc": {
   "base_numbering": 1,
   "nav_menu": {},
   "number_sections": true,
   "sideBar": true,
   "skip_h1_title": false,
   "title_cell": "Table of Contents",
   "title_sidebar": "Contents",
   "toc_cell": false,
   "toc_position": {},
   "toc_section_display": true,
   "toc_window_display": false
  },
  "varInspector": {
   "cols": {
    "lenName": 16,
    "lenType": 16,
    "lenVar": 40
   },
   "kernels_config": {
    "python": {
     "delete_cmd_postfix": "",
     "delete_cmd_prefix": "del ",
     "library": "var_list.py",
     "varRefreshCmd": "print(var_dic_list())"
    },
    "r": {
     "delete_cmd_postfix": ") ",
     "delete_cmd_prefix": "rm(",
     "library": "var_list.r",
     "varRefreshCmd": "cat(var_dic_list()) "
    }
   },
   "types_to_exclude": [
    "module",
    "function",
    "builtin_function_or_method",
    "instance",
    "_Feature"
   ],
   "window_display": false
  }
 },
 "nbformat": 4,
 "nbformat_minor": 5
}
