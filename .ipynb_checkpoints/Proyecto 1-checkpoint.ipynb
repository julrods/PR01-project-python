{
 "cells": [
  {
   "cell_type": "code",
   "execution_count": 75,
   "id": "computational-meaning",
   "metadata": {},
   "outputs": [
    {
     "data": {
      "text/plain": [
       "[2, 5, 1, 2]"
      ]
     },
     "execution_count": 75,
     "metadata": {},
     "output_type": "execute_result"
    }
   ],
   "source": [
    "import random\n",
    "random.choices(range(1,7), k=4)"
   ]
  },
  {
   "cell_type": "code",
   "execution_count": 76,
   "id": "geological-ceiling",
   "metadata": {},
   "outputs": [],
   "source": [
    "def computer_choice():\n",
    "    return random.choices(range(1,7), k=4)"
   ]
  },
  {
   "cell_type": "code",
   "execution_count": 77,
   "id": "golden-edmonton",
   "metadata": {},
   "outputs": [],
   "source": [
    "code = computer_choice()"
   ]
  },
  {
   "cell_type": "code",
   "execution_count": 78,
   "id": "improved-freeware",
   "metadata": {},
   "outputs": [
    {
     "data": {
      "text/plain": [
       "[3, 4, 4, 1]"
      ]
     },
     "execution_count": 78,
     "metadata": {},
     "output_type": "execute_result"
    }
   ],
   "source": [
    "code"
   ]
  },
  {
   "cell_type": "code",
   "execution_count": 167,
   "id": "welcome-newspaper",
   "metadata": {},
   "outputs": [
    {
     "name": "stdout",
     "output_type": "stream",
     "text": [
      "Please type 4 numbers between 1 and 6 (you can repeat numbers): 1234\n"
     ]
    },
    {
     "data": {
      "text/plain": [
       "[1, 2, 3, 4]"
      ]
     },
     "execution_count": 167,
     "metadata": {},
     "output_type": "execute_result"
    }
   ],
   "source": [
    "your_choice = [int(i) for i in list(input(\"Please type 4 numbers between 1 and 6 (you can repeat numbers): \"))]\n",
    "your_choice"
   ]
  },
  {
   "cell_type": "code",
   "execution_count": null,
   "id": "outer-utility",
   "metadata": {},
   "outputs": [],
   "source": [
    "def player_choice()"
   ]
  },
  {
   "cell_type": "code",
   "execution_count": 164,
   "id": "covered-summary",
   "metadata": {},
   "outputs": [],
   "source": [
    "def player_choice2():\n",
    "    your_choice = [int(i) for i in list(input(\"Please type 4 numbers between 0 and 5 (you can repeat numbers): \"))]\n",
    "    while True:\n",
    "        for i in your_choice:\n",
    "            if len(your_choice) != 4:\n",
    "                print(\"You must enter 4 numbers\")\n",
    "                print(your_choice)\n",
    "                player_choice()\n",
    "            elif i >= 6:\n",
    "                print(\"Your numbers must be between 0 and 5\")\n",
    "                print(your_choice)\n",
    "                player_choice()\n",
    "            else:\n",
    "                return your_choice\n",
    "        break"
   ]
  },
  {
   "cell_type": "code",
   "execution_count": null,
   "id": "sitting-nickel",
   "metadata": {},
   "outputs": [],
   "source": [
    "def rounds():\n",
    "    rondas = 0\n",
    "    while rondas < 12:\n",
    "        player_choice()\n",
    "        rondas += 1"
   ]
  }
 ],
 "metadata": {
  "kernelspec": {
   "display_name": "Python 3",
   "language": "python",
   "name": "python3"
  },
  "language_info": {
   "codemirror_mode": {
    "name": "ipython",
    "version": 3
   },
   "file_extension": ".py",
   "mimetype": "text/x-python",
   "name": "python",
   "nbconvert_exporter": "python",
   "pygments_lexer": "ipython3",
   "version": "3.9.1"
  },
  "toc": {
   "base_numbering": 1,
   "nav_menu": {},
   "number_sections": true,
   "sideBar": true,
   "skip_h1_title": false,
   "title_cell": "Table of Contents",
   "title_sidebar": "Contents",
   "toc_cell": false,
   "toc_position": {},
   "toc_section_display": true,
   "toc_window_display": false
  },
  "varInspector": {
   "cols": {
    "lenName": 16,
    "lenType": 16,
    "lenVar": 40
   },
   "kernels_config": {
    "python": {
     "delete_cmd_postfix": "",
     "delete_cmd_prefix": "del ",
     "library": "var_list.py",
     "varRefreshCmd": "print(var_dic_list())"
    },
    "r": {
     "delete_cmd_postfix": ") ",
     "delete_cmd_prefix": "rm(",
     "library": "var_list.r",
     "varRefreshCmd": "cat(var_dic_list()) "
    }
   },
   "types_to_exclude": [
    "module",
    "function",
    "builtin_function_or_method",
    "instance",
    "_Feature"
   ],
   "window_display": false
  }
 },
 "nbformat": 4,
 "nbformat_minor": 5
}
